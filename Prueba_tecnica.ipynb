{
  "nbformat": 4,
  "nbformat_minor": 0,
  "metadata": {
    "colab": {
      "provenance": [],
      "authorship_tag": "ABX9TyPRxDIov/hw460DgTA5sjwZ",
      "include_colab_link": true
    },
    "kernelspec": {
      "name": "python3",
      "display_name": "Python 3"
    },
    "language_info": {
      "name": "python"
    }
  },
  "cells": [
    {
      "cell_type": "markdown",
      "metadata": {
        "id": "view-in-github",
        "colab_type": "text"
      },
      "source": [
        "<a href=\"https://colab.research.google.com/github/traviz2560/Prueba-tecnica/blob/main/Prueba_tecnica.ipynb\" target=\"_parent\"><img src=\"https://colab.research.google.com/assets/colab-badge.svg\" alt=\"Open In Colab\"/></a>"
      ]
    },
    {
      "cell_type": "markdown",
      "source": [
        "#Ejercicio 1"
      ],
      "metadata": {
        "id": "u2MyaapKVlA5"
      }
    },
    {
      "cell_type": "markdown",
      "source": [
        "Se tiene una matriz nxn de enteros, crear una funcion que\n",
        "retorne un arreglo cuyo primer elemento es la cantidad de\n",
        "numeros que aparecen solo una vez y cuyo segundo elemento\n",
        "la cantidad de terminos repetidos.\n",
        "\n",
        "Ejemplos\n",
        "\n",
        "[[2, 2], [2, 2]] - [0, 1]\n",
        "\n",
        "[[2, 1, 3], [4, 5, 2], [6, 6, 6]] - [4, 2]"
      ],
      "metadata": {
        "id": "mGHkLgovVYSD"
      }
    },
    {
      "cell_type": "code",
      "source": [
        "#Librerias\n",
        "import numpy as np"
      ],
      "metadata": {
        "id": "vxfz5g94VXjG"
      },
      "execution_count": 1,
      "outputs": []
    },
    {
      "cell_type": "code",
      "execution_count": 34,
      "metadata": {
        "id": "LPqswhwWVHWu"
      },
      "outputs": [],
      "source": [
        "#Funciones\n",
        "def E1sol1(matrix):\n",
        "  '''\n",
        "  solucion del problema 1:\n",
        "  se considera que la entrada siempre es una matriz cuadrada nxn\n",
        "  '''\n",
        "  #calculamos n como la longitud de la primera fila\n",
        "  n = len(matrix[0])\n",
        "\n",
        "  #obtenemos el conteo de duplicados:\n",
        "  unique_list , counts = np.unique(matrix, return_counts=True)\n",
        "  a = len(unique_list)\n",
        "\n",
        "  #calculamos los casos limite\n",
        "  if a == 1:\n",
        "    return np.array([0,1])\n",
        "\n",
        "  elif a == n**2:\n",
        "    return np.array([a,0])\n",
        "\n",
        "  else:\n",
        "    #convertimos a boolean\n",
        "    b_count = counts>1\n",
        "\n",
        "    #repetimos el conteo\n",
        "    _, result = np.unique(b_count, return_counts=True)\n",
        "\n",
        "    return result"
      ]
    },
    {
      "cell_type": "code",
      "source": [
        "def E1sol2(matrix):\n",
        "  '''\n",
        "  solucion del problema 1:\n",
        "  se considera que la entrada siempre es una matriz cuadrada nxn\n",
        "  '''\n",
        "\n",
        "  #calculamos n como la longitud de la primera fila\n",
        "  n = len(matrix[0])\n",
        "\n",
        "  #obtenemos el conteo de duplicados:\n",
        "  unique_list , counts = np.unique(matrix, return_counts=True)\n",
        "  a = len(unique_list)\n",
        "\n",
        "  #aplicamos and\n",
        "  count_and = np.bitwise_and(counts, 1)\n",
        "\n",
        "  #calculamos los elementos unicos\n",
        "  u = np.sum(count_and)\n",
        "\n",
        "  return np.array([u,a-u])"
      ],
      "metadata": {
        "id": "YntSeTGae0UC"
      },
      "execution_count": 36,
      "outputs": []
    },
    {
      "cell_type": "code",
      "source": [
        "A = [[2, 2], [2, 2]]\n",
        "\n",
        "print(E1sol1(A))\n",
        "print(E1sol2(A))"
      ],
      "metadata": {
        "colab": {
          "base_uri": "https://localhost:8080/"
        },
        "id": "bSQyphVOdGVH",
        "outputId": "aeeb7ec8-478c-4fb6-d121-7f6372ffafae"
      },
      "execution_count": 33,
      "outputs": [
        {
          "output_type": "stream",
          "name": "stdout",
          "text": [
            "[0 1]\n",
            "[0 1]\n"
          ]
        }
      ]
    },
    {
      "cell_type": "markdown",
      "source": [
        "#Ejercicio 2"
      ],
      "metadata": {
        "id": "Q1B_DBNxh7H4"
      }
    },
    {
      "cell_type": "markdown",
      "source": [
        "Se tiene un numero natural n, crear una funcion que retorne\n",
        "una lista de pares de numeros que sumen el numero n. n < 10^6"
      ],
      "metadata": {
        "id": "7uLLEUHlh-RA"
      }
    },
    {
      "cell_type": "code",
      "source": [
        "#Librerias\n",
        "import numpy as np"
      ],
      "metadata": {
        "id": "6B8l6J27iLiP"
      },
      "execution_count": 35,
      "outputs": []
    },
    {
      "cell_type": "code",
      "source": [
        "#Funciones\n",
        "def E2sol1(n):\n",
        "  '''\n",
        "  solucion del problema 2:\n",
        "  se considera que la entrada siempre es un numero natural\n",
        "  consideramos los naturales a partir de 1\n",
        "  '''\n",
        "  #creamos la lista inicial\n",
        "  list_n1 = np.arange(1,n, dtype=np.uint)\n",
        "\n",
        "  #calculamos la lista complementaria\n",
        "  list_n2 = list_n1[::-1]\n",
        "\n",
        "  #unimos la listas\n",
        "  return np.vstack((list_n1,list_n2)).T"
      ],
      "metadata": {
        "id": "H5DwWiwaiTfo"
      },
      "execution_count": 74,
      "outputs": []
    },
    {
      "cell_type": "code",
      "source": [
        "n = 1e6\n",
        "print(E2sol1(n))"
      ],
      "metadata": {
        "colab": {
          "base_uri": "https://localhost:8080/"
        },
        "id": "qgdp8PTDkliv",
        "outputId": "679d1f80-173b-4a2b-86c6-c950a74a2c1b"
      },
      "execution_count": 80,
      "outputs": [
        {
          "output_type": "stream",
          "name": "stdout",
          "text": [
            "[[     1 999999]\n",
            " [     2 999998]\n",
            " [     3 999997]\n",
            " ...\n",
            " [999997      3]\n",
            " [999998      2]\n",
            " [999999      1]]\n"
          ]
        }
      ]
    }
  ]
}